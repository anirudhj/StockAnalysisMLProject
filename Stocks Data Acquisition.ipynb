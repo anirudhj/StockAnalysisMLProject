{
 "cells": [
  {
   "cell_type": "code",
   "execution_count": 1,
   "metadata": {},
   "outputs": [],
   "source": [
    "import pandas as pd\n",
    "import numpy as np\n",
    "import matplotlib.pyplot as plt\n",
    "import seaborn as sns\n",
    "import datetime as dt\n",
    "import StocksUtil as SDC"
   ]
  },
  {
   "cell_type": "markdown",
   "metadata": {},
   "source": [
    "# Checking the results List "
   ]
  },
  {
   "cell_type": "code",
   "execution_count": 2,
   "metadata": {},
   "outputs": [],
   "source": [
    "API =\"h6RZqPfMU9bQoqLk6z05ZUScbJy3Ri9T\"\n",
    "start_date=\"2022-01-01\"\n",
    "end_date=\"2022-12-31\"\n",
    "#date_list=[[\"2021-01-01\",\"2021-12-31\"],[\"2022-01-01,2022-12-31\"],[\"2023-01-01\",\"2023-04-05\"]]\n",
    "Stock_Symbol=\"MSFT\"\n",
    "stocks=SDC.StocksData(API) # Put your API Key here\n",
    "\n",
    "#for date in date_list:\n",
    "data=stocks.get_data(Stock_Symbol,\"2021-01-01\",\"2021-12-31\")\n",
    "data1=stocks.get_data(Stock_Symbol,start_date,end_date)\n",
    "data2=stocks.get_data(Stock_Symbol,\"2023-01-01\",\"2023-04-01\")\n",
    "\n",
    "result=pd.concat([data,data1,data2])\n",
    "\n"
   ]
  },
  {
   "cell_type": "code",
   "execution_count": 3,
   "metadata": {},
   "outputs": [],
   "source": [
    "result.to_csv(\"Microsoft_Data.csv\",index=False)"
   ]
  }
 ],
 "metadata": {
  "kernelspec": {
   "display_name": "Python 3",
   "language": "python",
   "name": "python3"
  },
  "language_info": {
   "codemirror_mode": {
    "name": "ipython",
    "version": 3
   },
   "file_extension": ".py",
   "mimetype": "text/x-python",
   "name": "python",
   "nbconvert_exporter": "python",
   "pygments_lexer": "ipython3",
   "version": "3.8.5"
  }
 },
 "nbformat": 4,
 "nbformat_minor": 4
}
