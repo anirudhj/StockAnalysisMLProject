{
 "cells": [
  {
   "attachments": {},
   "cell_type": "markdown",
   "metadata": {},
   "source": [
    "## Importing the Python Libraries \n",
    "\n",
    "Also I have imported the StocksUtil Class for API Calls to Polygon API"
   ]
  },
  {
   "cell_type": "code",
   "execution_count": 18,
   "metadata": {},
   "outputs": [],
   "source": [
    "import pandas as pd\n",
    "import numpy as np\n",
    "import matplotlib.pyplot as plt\n",
    "import seaborn as sns\n",
    "import datetime as dt\n",
    "import StocksUtil as SDC"
   ]
  },
  {
   "cell_type": "markdown",
   "metadata": {},
   "source": [
    "# Checking the results List "
   ]
  },
  {
   "cell_type": "code",
   "execution_count": 19,
   "metadata": {},
   "outputs": [
    {
     "data": {
      "text/html": [
       "<div>\n",
       "<style scoped>\n",
       "    .dataframe tbody tr th:only-of-type {\n",
       "        vertical-align: middle;\n",
       "    }\n",
       "\n",
       "    .dataframe tbody tr th {\n",
       "        vertical-align: top;\n",
       "    }\n",
       "\n",
       "    .dataframe thead th {\n",
       "        text-align: right;\n",
       "    }\n",
       "</style>\n",
       "<table border=\"1\" class=\"dataframe\">\n",
       "  <thead>\n",
       "    <tr style=\"text-align: right;\">\n",
       "      <th></th>\n",
       "      <th>v</th>\n",
       "      <th>vw</th>\n",
       "      <th>o</th>\n",
       "      <th>c</th>\n",
       "      <th>h</th>\n",
       "      <th>l</th>\n",
       "      <th>t</th>\n",
       "      <th>n</th>\n",
       "      <th>timestamp</th>\n",
       "    </tr>\n",
       "  </thead>\n",
       "  <tbody>\n",
       "    <tr>\n",
       "      <th>0</th>\n",
       "      <td>23209260.0</td>\n",
       "      <td>259.0721</td>\n",
       "      <td>260.19</td>\n",
       "      <td>258.74</td>\n",
       "      <td>261.48</td>\n",
       "      <td>257.821</td>\n",
       "      <td>1618804800000</td>\n",
       "      <td>293641</td>\n",
       "      <td>2021-04-19 04:00:00</td>\n",
       "    </tr>\n",
       "    <tr>\n",
       "      <th>1</th>\n",
       "      <td>19722875.0</td>\n",
       "      <td>258.2719</td>\n",
       "      <td>257.82</td>\n",
       "      <td>258.26</td>\n",
       "      <td>260.20</td>\n",
       "      <td>256.840</td>\n",
       "      <td>1618891200000</td>\n",
       "      <td>281309</td>\n",
       "      <td>2021-04-20 04:00:00</td>\n",
       "    </tr>\n",
       "    <tr>\n",
       "      <th>2</th>\n",
       "      <td>23990383.0</td>\n",
       "      <td>259.5750</td>\n",
       "      <td>258.94</td>\n",
       "      <td>260.58</td>\n",
       "      <td>260.68</td>\n",
       "      <td>257.250</td>\n",
       "      <td>1618977600000</td>\n",
       "      <td>272767</td>\n",
       "      <td>2021-04-21 04:00:00</td>\n",
       "    </tr>\n",
       "    <tr>\n",
       "      <th>3</th>\n",
       "      <td>25593777.0</td>\n",
       "      <td>258.4190</td>\n",
       "      <td>260.21</td>\n",
       "      <td>257.17</td>\n",
       "      <td>261.78</td>\n",
       "      <td>255.640</td>\n",
       "      <td>1619064000000</td>\n",
       "      <td>368851</td>\n",
       "      <td>2021-04-22 04:00:00</td>\n",
       "    </tr>\n",
       "    <tr>\n",
       "      <th>4</th>\n",
       "      <td>21499286.0</td>\n",
       "      <td>260.3770</td>\n",
       "      <td>257.88</td>\n",
       "      <td>261.15</td>\n",
       "      <td>261.51</td>\n",
       "      <td>257.270</td>\n",
       "      <td>1619150400000</td>\n",
       "      <td>248124</td>\n",
       "      <td>2021-04-23 04:00:00</td>\n",
       "    </tr>\n",
       "  </tbody>\n",
       "</table>\n",
       "</div>"
      ],
      "text/plain": [
       "            v        vw       o       c       h        l              t  \\\n",
       "0  23209260.0  259.0721  260.19  258.74  261.48  257.821  1618804800000   \n",
       "1  19722875.0  258.2719  257.82  258.26  260.20  256.840  1618891200000   \n",
       "2  23990383.0  259.5750  258.94  260.58  260.68  257.250  1618977600000   \n",
       "3  25593777.0  258.4190  260.21  257.17  261.78  255.640  1619064000000   \n",
       "4  21499286.0  260.3770  257.88  261.15  261.51  257.270  1619150400000   \n",
       "\n",
       "        n           timestamp  \n",
       "0  293641 2021-04-19 04:00:00  \n",
       "1  281309 2021-04-20 04:00:00  \n",
       "2  272767 2021-04-21 04:00:00  \n",
       "3  368851 2021-04-22 04:00:00  \n",
       "4  248124 2021-04-23 04:00:00  "
      ]
     },
     "execution_count": 19,
     "metadata": {},
     "output_type": "execute_result"
    }
   ],
   "source": [
    "API =\"h6RZqPfMU9bQoqLk6z05ZUScbJy3Ri9T\"\n",
    "start_date=\"2022-01-01\"\n",
    "end_date=\"2022-12-31\"\n",
    "#date_list=[[\"2021-01-01\",\"2021-12-31\"],[\"2022-01-01,2022-12-31\"],[\"2023-01-01\",\"2023-04-05\"]]\n",
    "Stock_Symbol=\"MSFT\" # pass the ticker for the stock you want to analyse the data for viz. MSFT, APPL etc. \n",
    "stocks=SDC.StocksData(API) # Put your API Key here\n",
    "\n",
    "#for date in date_list:\n",
    "data=stocks.get_data(Stock_Symbol,\"2021-01-01\",\"2021-12-31\")\n",
    "data1=stocks.get_data(Stock_Symbol,start_date,end_date)\n",
    "data2=stocks.get_data(Stock_Symbol,\"2023-01-01\",\"2023-04-01\")\n",
    "\n",
    "result=pd.concat([data,data1,data2])\n",
    "result.head()"
   ]
  },
  {
   "cell_type": "code",
   "execution_count": 20,
   "metadata": {},
   "outputs": [],
   "source": [
    "result.to_csv(\"Microsoft_Data.csv\",index=False)"
   ]
  }
 ],
 "metadata": {
  "kernelspec": {
   "display_name": "Python 3",
   "language": "python",
   "name": "python3"
  },
  "language_info": {
   "codemirror_mode": {
    "name": "ipython",
    "version": 3
   },
   "file_extension": ".py",
   "mimetype": "text/x-python",
   "name": "python",
   "nbconvert_exporter": "python",
   "pygments_lexer": "ipython3",
   "version": "3.8.5"
  }
 },
 "nbformat": 4,
 "nbformat_minor": 4
}
