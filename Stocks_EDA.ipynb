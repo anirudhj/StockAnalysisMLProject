{
 "cells": [
  {
   "attachments": {},
   "cell_type": "markdown",
   "metadata": {},
   "source": [
    "## Stocks Exploratory Data Analysis\n",
    "Exploratory Data Analysis (EDA) is a crucial step in data science projects. It helps in understanding the underlying patterns and relationships in the data.\n"
   ]
  },
  {
   "attachments": {},
   "cell_type": "markdown",
   "metadata": {},
   "source": [
    "## Load the dataset \n",
    "\n",
    "Importing the libraries and loading the dataset below which was already stored in a .csv file. The data is collected through an API, for this project I am using the polygon API https://polygon.io/ and storing the data for 5 Tech stocks of US Stock Market "
   ]
  },
  {
   "cell_type": "code",
   "execution_count": 2,
   "metadata": {},
   "outputs": [],
   "source": [
    "import pandas as pd \n",
    "import seaborn as sns\n",
    "import matplotlib.pyplot as plt"
   ]
  },
  {
   "cell_type": "code",
   "execution_count": 3,
   "metadata": {},
   "outputs": [],
   "source": [
    "df_Microsoft=pd.read_csv(r'C:\\Users\\ajodh\\Downloads\\ctc_pyhton_ML\\ML_Algos_AJ\\StockAnalysisMLProject\\Raw_Data\\Microsoft_Data.csv')\n",
    "column_names=[\"volume\",\"volume weighted average price\",\"open\",\"close\",\"high\",\"low\",\"timestamp\",\"number_of_transactions\",\"Date\"]\n",
    "df_Microsoft.columns=column_names # Renaming the columns\n",
    "df_Microsoft['Date']=pd.to_datetime(df_Microsoft['Date'])"
   ]
  },
  {
   "cell_type": "code",
   "execution_count": 9,
   "metadata": {},
   "outputs": [
    {
     "name": "stdout",
     "output_type": "stream",
     "text": [
      "<class 'pandas.core.frame.DataFrame'>\n",
      "RangeIndex: 493 entries, 0 to 492\n",
      "Data columns (total 10 columns):\n",
      " #   Column                         Non-Null Count  Dtype         \n",
      "---  ------                         --------------  -----         \n",
      " 0   volume                         493 non-null    float64       \n",
      " 1   volume weighted average price  493 non-null    float64       \n",
      " 2   open                           493 non-null    float64       \n",
      " 3   close                          493 non-null    float64       \n",
      " 4   high                           493 non-null    float64       \n",
      " 5   low                            493 non-null    float64       \n",
      " 6   timestamp                      493 non-null    int64         \n",
      " 7   number_of_transactions         493 non-null    int64         \n",
      " 8   Date                           493 non-null    datetime64[ns]\n",
      " 9   year                           493 non-null    int64         \n",
      "dtypes: datetime64[ns](1), float64(6), int64(3)\n",
      "memory usage: 38.6 KB\n"
     ]
    }
   ],
   "source": [
    "df_Microsoft.info()"
   ]
  },
  {
   "cell_type": "markdown",
   "metadata": {},
   "source": [
    "From the output, we can see that the dataset has 493 rows and 9 columns. All columns have non-null values."
   ]
  },
  {
   "attachments": {},
   "cell_type": "markdown",
   "metadata": {},
   "source": [
    "## Data Cleaning "
   ]
  },
  {
   "cell_type": "code",
   "execution_count": 8,
   "metadata": {},
   "outputs": [
    {
     "name": "stdout",
     "output_type": "stream",
     "text": [
      "volume                           0\n",
      "volume weighted average price    0\n",
      "open                             0\n",
      "close                            0\n",
      "high                             0\n",
      "low                              0\n",
      "timestamp                        0\n",
      "number_of_transactions           0\n",
      "Date                             0\n",
      "year                             0\n",
      "dtype: int64\n"
     ]
    }
   ],
   "source": [
    "print(df_Microsoft.isnull().sum()) #checking for Null values"
   ]
  }
 ],
 "metadata": {
  "kernelspec": {
   "display_name": "base",
   "language": "python",
   "name": "python3"
  },
  "language_info": {
   "codemirror_mode": {
    "name": "ipython",
    "version": 3
   },
   "file_extension": ".py",
   "mimetype": "text/x-python",
   "name": "python",
   "nbconvert_exporter": "python",
   "pygments_lexer": "ipython3",
   "version": "3.8.5"
  },
  "orig_nbformat": 4
 },
 "nbformat": 4,
 "nbformat_minor": 2
}
