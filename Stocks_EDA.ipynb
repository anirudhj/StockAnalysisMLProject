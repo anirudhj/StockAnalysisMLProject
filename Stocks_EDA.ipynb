{
 "cells": [
  {
   "attachments": {},
   "cell_type": "markdown",
   "metadata": {},
   "source": [
    "## Stocks Exploratory Data Analysis\n",
    "Exploratory Data Analysis (EDA) is a crucial step in data science projects. It helps in understanding the underlying patterns and relationships in the data.\n"
   ]
  },
  {
   "attachments": {},
   "cell_type": "markdown",
   "metadata": {},
   "source": [
    "## Load the dataset \n",
    "\n",
    "Importing the libraries and loading the dataset below which was already stored in a .csv file. The data is collected through an API, for this project I am using the polygon API https://polygon.io/ and storing the data for 5 Tech stocks of US Stock Market "
   ]
  },
  {
   "cell_type": "code",
   "execution_count": 68,
   "metadata": {},
   "outputs": [],
   "source": [
    "import pandas as pd \n",
    "import seaborn as sns\n",
    "import matplotlib.pyplot as plt\n",
    "from statsmodels.tsa.stattools import adfuller\n",
    "from statsmodels.tsa.seasonal import seasonal_decompose\n",
    "from statsmodels.tsa.arima_model import ARIMA\n",
    "from sklearn.metrics import mean_squared_error, mean_absolute_error\n",
    "import math"
   ]
  },
  {
   "cell_type": "code",
   "execution_count": 48,
   "metadata": {},
   "outputs": [],
   "source": [
    "df_Stock=pd.read_csv(r'C:\\Users\\ajodh\\Downloads\\ctc_pyhton_ML\\ML_Algos_AJ\\StockAnalysisMLProject\\Raw_Data\\Microsoft_Data.csv')\n",
    "column_names=[\"volume\",\"volume weighted average price\",\"open\",\"close\",\"high\",\"low\",\"timestamp\",\"number_of_transactions\",\"Date\"]\n",
    "df_Stock.columns=column_names # Renaming the columns\n",
    "df_Stock['Date']=pd.to_datetime(df_Stock['Date'])"
   ]
  },
  {
   "cell_type": "code",
   "execution_count": 49,
   "metadata": {},
   "outputs": [
    {
     "name": "stdout",
     "output_type": "stream",
     "text": [
      "<class 'pandas.core.frame.DataFrame'>\n",
      "RangeIndex: 493 entries, 0 to 492\n",
      "Data columns (total 9 columns):\n",
      " #   Column                         Non-Null Count  Dtype         \n",
      "---  ------                         --------------  -----         \n",
      " 0   volume                         493 non-null    float64       \n",
      " 1   volume weighted average price  493 non-null    float64       \n",
      " 2   open                           493 non-null    float64       \n",
      " 3   close                          493 non-null    float64       \n",
      " 4   high                           493 non-null    float64       \n",
      " 5   low                            493 non-null    float64       \n",
      " 6   timestamp                      493 non-null    int64         \n",
      " 7   number_of_transactions         493 non-null    int64         \n",
      " 8   Date                           493 non-null    datetime64[ns]\n",
      "dtypes: datetime64[ns](1), float64(6), int64(2)\n",
      "memory usage: 34.8 KB\n"
     ]
    }
   ],
   "source": [
    "df_Stock.info()"
   ]
  },
  {
   "cell_type": "markdown",
   "metadata": {},
   "source": [
    "From the output, we can see that the dataset has 493 rows and 9 columns. All columns have non-null values."
   ]
  },
  {
   "attachments": {},
   "cell_type": "markdown",
   "metadata": {},
   "source": [
    "## Data Cleaning "
   ]
  },
  {
   "cell_type": "code",
   "execution_count": 41,
   "metadata": {},
   "outputs": [],
   "source": [
    "from sklearn.preprocessing import StandardScaler\n",
    "\n",
    "## Standardizing the data \n",
    "\n",
    "sc=StandardScaler()\n",
    "df_Stock[[\"volume\",\"volume weighted average price\",\"open\",\"close\",\"high\",\"low\"]]=sc.fit_transform(df_Stock[[\"volume\",\"volume weighted average price\",\"open\",\"close\",\"high\",\"low\"]])"
   ]
  },
  {
   "cell_type": "code",
   "execution_count": 42,
   "metadata": {},
   "outputs": [
    {
     "name": "stdout",
     "output_type": "stream",
     "text": [
      "volume                           0\n",
      "volume weighted average price    0\n",
      "open                             0\n",
      "close                            0\n",
      "high                             0\n",
      "low                              0\n",
      "timestamp                        0\n",
      "number_of_transactions           0\n",
      "Date                             0\n",
      "dtype: int64\n"
     ]
    },
    {
     "data": {
      "text/html": [
       "<div>\n",
       "<style scoped>\n",
       "    .dataframe tbody tr th:only-of-type {\n",
       "        vertical-align: middle;\n",
       "    }\n",
       "\n",
       "    .dataframe tbody tr th {\n",
       "        vertical-align: top;\n",
       "    }\n",
       "\n",
       "    .dataframe thead th {\n",
       "        text-align: right;\n",
       "    }\n",
       "</style>\n",
       "<table border=\"1\" class=\"dataframe\">\n",
       "  <thead>\n",
       "    <tr style=\"text-align: right;\">\n",
       "      <th></th>\n",
       "      <th>volume</th>\n",
       "      <th>volume weighted average price</th>\n",
       "      <th>open</th>\n",
       "      <th>close</th>\n",
       "      <th>high</th>\n",
       "      <th>low</th>\n",
       "      <th>timestamp</th>\n",
       "      <th>number_of_transactions</th>\n",
       "      <th>Date</th>\n",
       "    </tr>\n",
       "  </thead>\n",
       "  <tbody>\n",
       "    <tr>\n",
       "      <th>0</th>\n",
       "      <td>-0.541960</td>\n",
       "      <td>-0.555772</td>\n",
       "      <td>-0.517695</td>\n",
       "      <td>-0.570161</td>\n",
       "      <td>-0.575915</td>\n",
       "      <td>-0.496408</td>\n",
       "      <td>1618804800000</td>\n",
       "      <td>293641</td>\n",
       "      <td>2021-04-19 04:00:00</td>\n",
       "    </tr>\n",
       "    <tr>\n",
       "      <th>1</th>\n",
       "      <td>-0.871836</td>\n",
       "      <td>-0.582764</td>\n",
       "      <td>-0.597202</td>\n",
       "      <td>-0.586320</td>\n",
       "      <td>-0.619012</td>\n",
       "      <td>-0.529572</td>\n",
       "      <td>1618891200000</td>\n",
       "      <td>281309</td>\n",
       "      <td>2021-04-20 04:00:00</td>\n",
       "    </tr>\n",
       "    <tr>\n",
       "      <th>2</th>\n",
       "      <td>-0.468051</td>\n",
       "      <td>-0.538809</td>\n",
       "      <td>-0.559629</td>\n",
       "      <td>-0.508217</td>\n",
       "      <td>-0.602851</td>\n",
       "      <td>-0.515712</td>\n",
       "      <td>1618977600000</td>\n",
       "      <td>272767</td>\n",
       "      <td>2021-04-21 04:00:00</td>\n",
       "    </tr>\n",
       "    <tr>\n",
       "      <th>3</th>\n",
       "      <td>-0.316341</td>\n",
       "      <td>-0.577802</td>\n",
       "      <td>-0.517024</td>\n",
       "      <td>-0.623015</td>\n",
       "      <td>-0.565814</td>\n",
       "      <td>-0.570139</td>\n",
       "      <td>1619064000000</td>\n",
       "      <td>368851</td>\n",
       "      <td>2021-04-22 04:00:00</td>\n",
       "    </tr>\n",
       "    <tr>\n",
       "      <th>4</th>\n",
       "      <td>-0.703755</td>\n",
       "      <td>-0.511757</td>\n",
       "      <td>-0.595189</td>\n",
       "      <td>-0.489028</td>\n",
       "      <td>-0.574905</td>\n",
       "      <td>-0.515035</td>\n",
       "      <td>1619150400000</td>\n",
       "      <td>248124</td>\n",
       "      <td>2021-04-23 04:00:00</td>\n",
       "    </tr>\n",
       "    <tr>\n",
       "      <th>...</th>\n",
       "      <td>...</td>\n",
       "      <td>...</td>\n",
       "      <td>...</td>\n",
       "      <td>...</td>\n",
       "      <td>...</td>\n",
       "      <td>...</td>\n",
       "      <td>...</td>\n",
       "      <td>...</td>\n",
       "      <td>...</td>\n",
       "    </tr>\n",
       "    <tr>\n",
       "      <th>488</th>\n",
       "      <td>-0.198405</td>\n",
       "      <td>0.069963</td>\n",
       "      <td>0.163645</td>\n",
       "      <td>0.023692</td>\n",
       "      <td>0.096769</td>\n",
       "      <td>0.101922</td>\n",
       "      <td>1679889600000</td>\n",
       "      <td>336991</td>\n",
       "      <td>2023-03-27 04:00:00</td>\n",
       "    </tr>\n",
       "    <tr>\n",
       "      <th>489</th>\n",
       "      <td>-0.667860</td>\n",
       "      <td>-0.057886</td>\n",
       "      <td>0.005638</td>\n",
       "      <td>-0.015023</td>\n",
       "      <td>-0.082317</td>\n",
       "      <td>-0.015550</td>\n",
       "      <td>1679976000000</td>\n",
       "      <td>288361</td>\n",
       "      <td>2023-03-28 04:00:00</td>\n",
       "    </tr>\n",
       "    <tr>\n",
       "      <th>490</th>\n",
       "      <td>-0.364288</td>\n",
       "      <td>0.146602</td>\n",
       "      <td>0.111982</td>\n",
       "      <td>0.162728</td>\n",
       "      <td>0.086025</td>\n",
       "      <td>0.199621</td>\n",
       "      <td>1680062400000</td>\n",
       "      <td>312671</td>\n",
       "      <td>2023-03-29 04:00:00</td>\n",
       "    </tr>\n",
       "    <tr>\n",
       "      <th>491</th>\n",
       "      <td>-0.367470</td>\n",
       "      <td>0.257359</td>\n",
       "      <td>0.288775</td>\n",
       "      <td>0.281903</td>\n",
       "      <td>0.197815</td>\n",
       "      <td>0.303405</td>\n",
       "      <td>1680148800000</td>\n",
       "      <td>338299</td>\n",
       "      <td>2023-03-30 04:00:00</td>\n",
       "    </tr>\n",
       "    <tr>\n",
       "      <th>492</th>\n",
       "      <td>0.362280</td>\n",
       "      <td>0.369830</td>\n",
       "      <td>0.272001</td>\n",
       "      <td>0.424979</td>\n",
       "      <td>0.359766</td>\n",
       "      <td>0.354790</td>\n",
       "      <td>1680235200000</td>\n",
       "      <td>398970</td>\n",
       "      <td>2023-03-31 04:00:00</td>\n",
       "    </tr>\n",
       "  </tbody>\n",
       "</table>\n",
       "<p>493 rows × 9 columns</p>\n",
       "</div>"
      ],
      "text/plain": [
       "       volume  volume weighted average price      open     close      high  \\\n",
       "0   -0.541960                      -0.555772 -0.517695 -0.570161 -0.575915   \n",
       "1   -0.871836                      -0.582764 -0.597202 -0.586320 -0.619012   \n",
       "2   -0.468051                      -0.538809 -0.559629 -0.508217 -0.602851   \n",
       "3   -0.316341                      -0.577802 -0.517024 -0.623015 -0.565814   \n",
       "4   -0.703755                      -0.511757 -0.595189 -0.489028 -0.574905   \n",
       "..        ...                            ...       ...       ...       ...   \n",
       "488 -0.198405                       0.069963  0.163645  0.023692  0.096769   \n",
       "489 -0.667860                      -0.057886  0.005638 -0.015023 -0.082317   \n",
       "490 -0.364288                       0.146602  0.111982  0.162728  0.086025   \n",
       "491 -0.367470                       0.257359  0.288775  0.281903  0.197815   \n",
       "492  0.362280                       0.369830  0.272001  0.424979  0.359766   \n",
       "\n",
       "          low      timestamp  number_of_transactions                Date  \n",
       "0   -0.496408  1618804800000                  293641 2021-04-19 04:00:00  \n",
       "1   -0.529572  1618891200000                  281309 2021-04-20 04:00:00  \n",
       "2   -0.515712  1618977600000                  272767 2021-04-21 04:00:00  \n",
       "3   -0.570139  1619064000000                  368851 2021-04-22 04:00:00  \n",
       "4   -0.515035  1619150400000                  248124 2021-04-23 04:00:00  \n",
       "..        ...            ...                     ...                 ...  \n",
       "488  0.101922  1679889600000                  336991 2023-03-27 04:00:00  \n",
       "489 -0.015550  1679976000000                  288361 2023-03-28 04:00:00  \n",
       "490  0.199621  1680062400000                  312671 2023-03-29 04:00:00  \n",
       "491  0.303405  1680148800000                  338299 2023-03-30 04:00:00  \n",
       "492  0.354790  1680235200000                  398970 2023-03-31 04:00:00  \n",
       "\n",
       "[493 rows x 9 columns]"
      ]
     },
     "execution_count": 42,
     "metadata": {},
     "output_type": "execute_result"
    }
   ],
   "source": [
    "print(df_Stock.isnull().sum()) #checking for Null values\n",
    "df_Stock"
   ]
  },
  {
   "cell_type": "code",
   "execution_count": 60,
   "metadata": {},
   "outputs": [],
   "source": [
    "## Dropping irrelevant columns since I will be using Time Series Forecasting I will only be using closing price as feature \n",
    "df1=df_Stock.drop(labels=['volume','volume weighted average price','open','high','low','timestamp','number_of_transactions'],axis=1)\n"
   ]
  },
  {
   "cell_type": "code",
   "execution_count": 61,
   "metadata": {},
   "outputs": [
    {
     "data": {
      "image/png": "[encoded data removed]",
      "text/plain": [
       "<Figure size 720x432 with 1 Axes>"
      ]
     },
     "metadata": {
      "needs_background": "light"
     },
     "output_type": "display_data"
    }
   ],
   "source": [
    "plt.figure(figsize=(10, 6))\n",
    "sns.lineplot(x='Date', y='close', data=df1)\n",
    "plt.title('Closing Stock Price Over Time')\n",
    "plt.xlabel('Date')\n",
    "plt.ylabel('Closing Stock Price')\n",
    "plt.grid(True)  \n",
    "plt.show()"
   ]
  },
  {
   "cell_type": "code",
   "execution_count": 52,
   "metadata": {},
   "outputs": [
    {
     "data": {
      "text/html": [
       "<div>\n",
       "<style scoped>\n",
       "    .dataframe tbody tr th:only-of-type {\n",
       "        vertical-align: middle;\n",
       "    }\n",
       "\n",
       "    .dataframe tbody tr th {\n",
       "        vertical-align: top;\n",
       "    }\n",
       "\n",
       "    .dataframe thead th {\n",
       "        text-align: right;\n",
       "    }\n",
       "</style>\n",
       "<table border=\"1\" class=\"dataframe\">\n",
       "  <thead>\n",
       "    <tr style=\"text-align: right;\">\n",
       "      <th></th>\n",
       "      <th>close</th>\n",
       "      <th>Date</th>\n",
       "    </tr>\n",
       "  </thead>\n",
       "  <tbody>\n",
       "    <tr>\n",
       "      <th>0</th>\n",
       "      <td>258.74</td>\n",
       "      <td>2021-04-19 04:00:00</td>\n",
       "    </tr>\n",
       "    <tr>\n",
       "      <th>1</th>\n",
       "      <td>258.26</td>\n",
       "      <td>2021-04-20 04:00:00</td>\n",
       "    </tr>\n",
       "    <tr>\n",
       "      <th>2</th>\n",
       "      <td>260.58</td>\n",
       "      <td>2021-04-21 04:00:00</td>\n",
       "    </tr>\n",
       "    <tr>\n",
       "      <th>3</th>\n",
       "      <td>257.17</td>\n",
       "      <td>2021-04-22 04:00:00</td>\n",
       "    </tr>\n",
       "    <tr>\n",
       "      <th>4</th>\n",
       "      <td>261.15</td>\n",
       "      <td>2021-04-23 04:00:00</td>\n",
       "    </tr>\n",
       "    <tr>\n",
       "      <th>...</th>\n",
       "      <td>...</td>\n",
       "      <td>...</td>\n",
       "    </tr>\n",
       "    <tr>\n",
       "      <th>488</th>\n",
       "      <td>276.38</td>\n",
       "      <td>2023-03-27 04:00:00</td>\n",
       "    </tr>\n",
       "    <tr>\n",
       "      <th>489</th>\n",
       "      <td>275.23</td>\n",
       "      <td>2023-03-28 04:00:00</td>\n",
       "    </tr>\n",
       "    <tr>\n",
       "      <th>490</th>\n",
       "      <td>280.51</td>\n",
       "      <td>2023-03-29 04:00:00</td>\n",
       "    </tr>\n",
       "    <tr>\n",
       "      <th>491</th>\n",
       "      <td>284.05</td>\n",
       "      <td>2023-03-30 04:00:00</td>\n",
       "    </tr>\n",
       "    <tr>\n",
       "      <th>492</th>\n",
       "      <td>288.30</td>\n",
       "      <td>2023-03-31 04:00:00</td>\n",
       "    </tr>\n",
       "  </tbody>\n",
       "</table>\n",
       "<p>493 rows × 2 columns</p>\n",
       "</div>"
      ],
      "text/plain": [
       "      close                Date\n",
       "0    258.74 2021-04-19 04:00:00\n",
       "1    258.26 2021-04-20 04:00:00\n",
       "2    260.58 2021-04-21 04:00:00\n",
       "3    257.17 2021-04-22 04:00:00\n",
       "4    261.15 2021-04-23 04:00:00\n",
       "..      ...                 ...\n",
       "488  276.38 2023-03-27 04:00:00\n",
       "489  275.23 2023-03-28 04:00:00\n",
       "490  280.51 2023-03-29 04:00:00\n",
       "491  284.05 2023-03-30 04:00:00\n",
       "492  288.30 2023-03-31 04:00:00\n",
       "\n",
       "[493 rows x 2 columns]"
      ]
     },
     "execution_count": 52,
     "metadata": {},
     "output_type": "execute_result"
    }
   ],
   "source": [
    "df1"
   ]
  },
  {
   "attachments": {},
   "cell_type": "markdown",
   "metadata": {},
   "source": [
    "# Probability distribution to visualize the data in our series"
   ]
  },
  {
   "cell_type": "code",
   "execution_count": 66,
   "metadata": {},
   "outputs": [
    {
     "data": {
      "text/plain": [
       "<AxesSubplot:ylabel='Density'>"
      ]
     },
     "execution_count": 66,
     "metadata": {},
     "output_type": "execute_result"
    },
    {
     "data": {
      "image/png": "[encoded data removed]",
      "text/plain": [
       "<Figure size 432x288 with 1 Axes>"
      ]
     },
     "metadata": {
      "needs_background": "light"
     },
     "output_type": "display_data"
    }
   ],
   "source": [
    "df_Close=df1['close']\n",
    "df_Close.plot(kind='kde',grid=True)\n"
   ]
  },
  {
   "cell_type": "code",
   "execution_count": null,
   "metadata": {},
   "outputs": [],
   "source": []
  }
 ],
 "metadata": {
  "kernelspec": {
   "display_name": "base",
   "language": "python",
   "name": "python3"
  },
  "language_info": {
   "codemirror_mode": {
    "name": "ipython",
    "version": 3
   },
   "file_extension": ".py",
   "mimetype": "text/x-python",
   "name": "python",
   "nbconvert_exporter": "python",
   "pygments_lexer": "ipython3",
   "version": "3.8.5"
  },
  "orig_nbformat": 4
 },
 "nbformat": 4,
 "nbformat_minor": 2
}
