{
 "cells": [
  {
   "cell_type": "code",
   "execution_count": 1,
   "metadata": {},
   "outputs": [],
   "source": [
    "import requests\n",
    "import json\n",
    "import pandas as pd"
   ]
  },
  {
   "cell_type": "code",
   "execution_count": 3,
   "metadata": {},
   "outputs": [],
   "source": [
    "\n",
    "class StocksData:\n",
    "    def __init__(self, api_key):\n",
    "        self.api_key = api_key\n",
    "      \n",
    "    def get_data(self, symbol, start_date, end_date):\n",
    "\n",
    "        BASE_URL = \"https://api.polygon.io\"    \n",
    "       # url = f\"https://api.example.com/stocks/{symbol}?api_key={self.api_key}\"\n",
    "        \n",
    "        endpoint=f\"/v2/aggs/ticker/{symbol}/range/1/day/{start_date}/{end_date}\"\n",
    "        params = {\n",
    "                    \"apiKey\": self.api_key,\n",
    "                    \"sort\": \"asc\",\n",
    "                    \"limit\": 50000,\n",
    "                    'Accept': 'text/csv'}\n",
    "        \n",
    "        response = requests.get(BASE_URL+endpoint,params)\n",
    "\n",
    "      #  response = requests.get(url)\n",
    "        if response.status_code == 200:\n",
    "            return response.json()[\"results\"]\n",
    "            \n",
    "            \n",
    "        else:\n",
    "             return print(\"Error retriving the results, Code unsuccessful\")\n"
   ]
  }
 ],
 "metadata": {
  "kernelspec": {
   "display_name": "Python 3",
   "language": "python",
   "name": "python3"
  },
  "language_info": {
   "codemirror_mode": {
    "name": "ipython",
    "version": 3
   },
   "file_extension": ".py",
   "mimetype": "text/x-python",
   "name": "python",
   "nbconvert_exporter": "python",
   "pygments_lexer": "ipython3",
   "version": "3.8.5"
  }
 },
 "nbformat": 4,
 "nbformat_minor": 4
}
